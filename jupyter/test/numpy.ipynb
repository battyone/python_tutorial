{
 "cells": [
  {
   "cell_type": "code",
   "execution_count": 4,
   "metadata": {},
   "outputs": [],
   "source": [
    "%matplotlib inline\n",
    "import matplotlib.pyplot as plt\n",
    "import numpy as np"
   ]
  },
  {
   "cell_type": "markdown",
   "metadata": {},
   "source": [
    "Numpy advantages:\n",
    "\n",
    "* numpy arrays are statically typed. Their type is defined when the array is created. Therefore it's easy to use them with compiled languages like C.\n",
    "\n"
   ]
  },
  {
   "cell_type": "code",
   "execution_count": 18,
   "metadata": {},
   "outputs": [
    {
     "data": {
      "text/plain": [
       "dtype('int32')"
      ]
     },
     "execution_count": 18,
     "metadata": {},
     "output_type": "execute_result"
    }
   ],
   "source": [
    "# create 1D array (vector) from python list\n",
    "# Vector variable names small letters.\n",
    "a = np.array([1,2,3,4])\n",
    "\n",
    "# create 2D array (matrix) from python list\n",
    "# dims must be equal in rows and columns\n",
    "# Matrix variable names Capital letters.\n",
    "B = np.array([[1,2,3,4], [4,5,6,8]])\n",
    "B.shape\n",
    "B[0] # first row\n",
    "type(B)\n",
    "B.size # num elements\n",
    "b.dtype # get the element data type"
   ]
  },
  {
   "cell_type": "code",
   "execution_count": 20,
   "metadata": {},
   "outputs": [
    {
     "data": {
      "text/plain": [
       "array([[1., 2.],\n",
       "       [3., 4.]])"
      ]
     },
     "execution_count": 20,
     "metadata": {},
     "output_type": "execute_result"
    }
   ],
   "source": [
    "# Create array with data type\n",
    "M = np.array([[1,2],[3,4]], dtype=float)\n",
    "M"
   ]
  },
  {
   "cell_type": "markdown",
   "metadata": {},
   "source": [
    "Data Types in arrays:\n",
    "\n",
    "* int, float, complex, bool, object\n",
    "* int64, int16, float128, complex128"
   ]
  },
  {
   "cell_type": "markdown",
   "metadata": {},
   "source": [
    "# Generating arrays"
   ]
  },
  {
   "cell_type": "code",
   "execution_count": 39,
   "metadata": {},
   "outputs": [
    {
     "name": "stdout",
     "output_type": "stream",
     "text": [
      "[1.   1.11 1.22 1.33 1.44 1.56 1.67 1.78 1.89 2.  ]\n"
     ]
    }
   ],
   "source": [
    "# create a range\n",
    "x = np.arange(3,8,2) #start, excluding stop, step\n",
    "\n",
    "# create a linear space\n",
    "y = np.linspace(1, 2, 10) # start, inc stop, num samples =50\n",
    "# help(np.linspace)\n",
    "\n",
    "np.set_printoptions(precision=2, suppress=True)\n",
    "print(y)"
   ]
  },
  {
   "cell_type": "code",
   "execution_count": null,
   "metadata": {},
   "outputs": [],
   "source": []
  },
  {
   "cell_type": "code",
   "execution_count": 51,
   "metadata": {},
   "outputs": [
    {
     "name": "stdout",
     "output_type": "stream",
     "text": [
      "[  1.     1.67   2.78   4.64   7.74  12.92  21.54  35.94  59.95 100.  ]\n"
     ]
    }
   ],
   "source": [
    "#help(np.logspace)\n",
    "np.set_printoptions(precision=2, suppress=True)\n",
    "\n",
    "z = np.logspace(0, 2, 10, base=10)\n",
    "print(z)"
   ]
  },
  {
   "cell_type": "markdown",
   "metadata": {},
   "source": [
    "# Random Data"
   ]
  },
  {
   "cell_type": "code",
   "execution_count": 79,
   "metadata": {},
   "outputs": [
    {
     "data": {
      "text/plain": [
       "array([[ 0.67, -0.87, -1.19,  0.76, -0.75],\n",
       "       [-1.  , -0.52, -1.19,  2.16,  0.18],\n",
       "       [ 1.32, -0.41,  0.11, -0.57,  2.03],\n",
       "       [-0.16,  0.17, -0.44, -0.65,  0.83],\n",
       "       [-0.97,  0.42, -0.7 ,  0.24, -1.33]])"
      ]
     },
     "execution_count": 79,
     "metadata": {},
     "output_type": "execute_result"
    }
   ],
   "source": [
    "# uniform random numbers in [0,1]\n",
    "np.random.rand(5,5)\n",
    "\n",
    "# standard normal distributed random numbers\n",
    "np.random.randn(5,5)\n"
   ]
  },
  {
   "cell_type": "markdown",
   "metadata": {},
   "source": [
    "# Diagonal Matrix"
   ]
  },
  {
   "cell_type": "code",
   "execution_count": 83,
   "metadata": {},
   "outputs": [
    {
     "data": {
      "text/plain": [
       "array([[0, 0, 0, 0, 0, 0],\n",
       "       [0, 0, 0, 0, 0, 0],\n",
       "       [0, 0, 0, 0, 0, 0],\n",
       "       [1, 0, 0, 0, 0, 0],\n",
       "       [0, 2, 0, 0, 0, 0],\n",
       "       [0, 0, 4, 0, 0, 0]])"
      ]
     },
     "execution_count": 83,
     "metadata": {},
     "output_type": "execute_result"
    }
   ],
   "source": [
    "# with shift (offset)\n",
    "np.diag([1,2,4], k=-3)"
   ]
  },
  {
   "cell_type": "code",
   "execution_count": 92,
   "metadata": {},
   "outputs": [
    {
     "data": {
      "text/plain": [
       "array([[1, 0, 0, 0],\n",
       "       [0, 1, 0, 0],\n",
       "       [0, 0, 1, 0],\n",
       "       [0, 0, 0, 1]])"
      ]
     },
     "execution_count": 92,
     "metadata": {},
     "output_type": "execute_result"
    }
   ],
   "source": [
    "a = np.zeros((4,4), int)\n",
    "np.fill_diagonal(a, 1)\n",
    "a"
   ]
  },
  {
   "cell_type": "markdown",
   "metadata": {},
   "source": [
    "# CSV Data"
   ]
  },
  {
   "cell_type": "code",
   "execution_count": null,
   "metadata": {},
   "outputs": [],
   "source": [
    "data = np.ge"
   ]
  }
 ],
 "metadata": {
  "kernelspec": {
   "display_name": "Python 3",
   "language": "python",
   "name": "python3"
  },
  "language_info": {
   "codemirror_mode": {
    "name": "ipython",
    "version": 3
   },
   "file_extension": ".py",
   "mimetype": "text/x-python",
   "name": "python",
   "nbconvert_exporter": "python",
   "pygments_lexer": "ipython3",
   "version": "3.7.1"
  }
 },
 "nbformat": 4,
 "nbformat_minor": 2
}
