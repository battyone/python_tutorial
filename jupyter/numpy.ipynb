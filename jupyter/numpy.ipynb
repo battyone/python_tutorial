{
 "cells": [
  {
   "cell_type": "code",
   "execution_count": 1,
   "metadata": {},
   "outputs": [],
   "source": [
    "%matplotlib inline\n",
    "import matplotlib.pyplot as plt\n",
    "import numpy as np"
   ]
  },
  {
   "cell_type": "markdown",
   "metadata": {},
   "source": [
    "Numpy advantages:\n",
    "\n",
    "* numpy arrays are statically typed. Their type is defined when the array is created. Therefore it's easy to use them with compiled languages like C.\n",
    "\n"
   ]
  },
  {
   "cell_type": "code",
   "execution_count": 33,
   "metadata": {},
   "outputs": [
    {
     "data": {
      "text/plain": [
       "2"
      ]
     },
     "execution_count": 33,
     "metadata": {},
     "output_type": "execute_result"
    }
   ],
   "source": [
    "# create 1D array (vector) from python list\n",
    "# Vector variable names small letters.\n",
    "a = np.array([1,2,3,4])\n",
    "\n",
    "# create 2D array (matrix) from python list\n",
    "# dims must be equal in rows and columns\n",
    "# Matrix variable names Capital letters.\n",
    "B = np.array([[1,2,3,4, 5], [4,5,6,8, 9]])\n",
    "B.shape\n",
    "B[0] # first row\n",
    "type(B)\n",
    "B.size # num elements\n",
    "B.dtype # get the element data type\n",
    "B.itemsize # bytes per element\n",
    "B.nbytes # number of bytes for whole array\n",
    "B.ndim #number of dimensions"
   ]
  },
  {
   "cell_type": "code",
   "execution_count": 20,
   "metadata": {},
   "outputs": [
    {
     "data": {
      "text/plain": [
       "array([[1., 2.],\n",
       "       [3., 4.]])"
      ]
     },
     "execution_count": 20,
     "metadata": {},
     "output_type": "execute_result"
    }
   ],
   "source": [
    "# Create array with data type\n",
    "M = np.array([[1,2],[3,4]], dtype=float)\n",
    "M"
   ]
  },
  {
   "cell_type": "markdown",
   "metadata": {},
   "source": [
    "Data Types in arrays:\n",
    "\n",
    "* int, float, complex, bool, object\n",
    "* int64, int16, float128, complex128"
   ]
  },
  {
   "cell_type": "markdown",
   "metadata": {},
   "source": [
    "# Generating arrays"
   ]
  },
  {
   "cell_type": "code",
   "execution_count": 39,
   "metadata": {},
   "outputs": [
    {
     "name": "stdout",
     "output_type": "stream",
     "text": [
      "[1.   1.11 1.22 1.33 1.44 1.56 1.67 1.78 1.89 2.  ]\n"
     ]
    }
   ],
   "source": [
    "# create a range\n",
    "x = np.arange(3,8,2) #start, excluding stop, step\n",
    "\n",
    "# create a linear space\n",
    "y = np.linspace(1, 2, 10) # start, inc stop, num samples =50\n",
    "# help(np.linspace)\n",
    "\n",
    "np.set_printoptions(precision=2, suppress=True)\n",
    "print(y)"
   ]
  },
  {
   "cell_type": "code",
   "execution_count": null,
   "metadata": {},
   "outputs": [],
   "source": []
  },
  {
   "cell_type": "code",
   "execution_count": 51,
   "metadata": {},
   "outputs": [
    {
     "name": "stdout",
     "output_type": "stream",
     "text": [
      "[  1.     1.67   2.78   4.64   7.74  12.92  21.54  35.94  59.95 100.  ]\n"
     ]
    }
   ],
   "source": [
    "#help(np.logspace)\n",
    "np.set_printoptions(precision=2, suppress=True)\n",
    "\n",
    "z = np.logspace(0, 2, 10, base=10)\n",
    "print(z)"
   ]
  },
  {
   "cell_type": "markdown",
   "metadata": {},
   "source": [
    "# Random Data"
   ]
  },
  {
   "cell_type": "code",
   "execution_count": 79,
   "metadata": {},
   "outputs": [
    {
     "data": {
      "text/plain": [
       "array([[ 0.67, -0.87, -1.19,  0.76, -0.75],\n",
       "       [-1.  , -0.52, -1.19,  2.16,  0.18],\n",
       "       [ 1.32, -0.41,  0.11, -0.57,  2.03],\n",
       "       [-0.16,  0.17, -0.44, -0.65,  0.83],\n",
       "       [-0.97,  0.42, -0.7 ,  0.24, -1.33]])"
      ]
     },
     "execution_count": 79,
     "metadata": {},
     "output_type": "execute_result"
    }
   ],
   "source": [
    "# uniform random numbers in [0,1]\n",
    "np.random.rand(5,5)\n",
    "\n",
    "# standard normal distributed random numbers\n",
    "np.random.randn(5,5)\n"
   ]
  },
  {
   "cell_type": "markdown",
   "metadata": {},
   "source": [
    "# Diagonal Matrix"
   ]
  },
  {
   "cell_type": "code",
   "execution_count": 83,
   "metadata": {},
   "outputs": [
    {
     "data": {
      "text/plain": [
       "array([[0, 0, 0, 0, 0, 0],\n",
       "       [0, 0, 0, 0, 0, 0],\n",
       "       [0, 0, 0, 0, 0, 0],\n",
       "       [1, 0, 0, 0, 0, 0],\n",
       "       [0, 2, 0, 0, 0, 0],\n",
       "       [0, 0, 4, 0, 0, 0]])"
      ]
     },
     "execution_count": 83,
     "metadata": {},
     "output_type": "execute_result"
    }
   ],
   "source": [
    "# with shift (offset)\n",
    "np.diag([1,2,4], k=-3)"
   ]
  },
  {
   "cell_type": "code",
   "execution_count": 92,
   "metadata": {},
   "outputs": [
    {
     "data": {
      "text/plain": [
       "array([[1, 0, 0, 0],\n",
       "       [0, 1, 0, 0],\n",
       "       [0, 0, 1, 0],\n",
       "       [0, 0, 0, 1]])"
      ]
     },
     "execution_count": 92,
     "metadata": {},
     "output_type": "execute_result"
    }
   ],
   "source": [
    "a = np.zeros((4,4), int)\n",
    "np.fill_diagonal(a, 1)\n",
    "a"
   ]
  },
  {
   "cell_type": "markdown",
   "metadata": {},
   "source": [
    "# CSV Data"
   ]
  },
  {
   "cell_type": "code",
   "execution_count": 172,
   "metadata": {},
   "outputs": [
    {
     "data": {
      "text/plain": [
       "(77431, 7)"
      ]
     },
     "execution_count": 172,
     "metadata": {},
     "output_type": "execute_result"
    }
   ],
   "source": [
    "data = np.genfromtxt('stockholm_td_adj.dat')\n",
    "data.shape"
   ]
  },
  {
   "cell_type": "code",
   "execution_count": 176,
   "metadata": {},
   "outputs": [
    {
     "data": {
      "text/plain": [
       "5.785461895106611"
      ]
     },
     "execution_count": 176,
     "metadata": {},
     "output_type": "execute_result"
    }
   ],
   "source": [
    "np.mean(data[:,5])"
   ]
  },
  {
   "cell_type": "code",
   "execution_count": 180,
   "metadata": {},
   "outputs": [
    {
     "data": {
      "text/plain": [
       "6.197109684751585"
      ]
     },
     "execution_count": 180,
     "metadata": {},
     "output_type": "execute_result"
    }
   ],
   "source": [
    "np.mean(data[:,3]) # mean temperature"
   ]
  },
  {
   "cell_type": "code",
   "execution_count": 182,
   "metadata": {},
   "outputs": [
    {
     "data": {
      "text/plain": [
       "8.282271621340573"
      ]
     },
     "execution_count": 182,
     "metadata": {},
     "output_type": "execute_result"
    }
   ],
   "source": [
    "np.std(data[:,3])"
   ]
  },
  {
   "cell_type": "code",
   "execution_count": 187,
   "metadata": {},
   "outputs": [
    {
     "data": {
      "text/plain": [
       "(-25.8, 28.3)"
      ]
     },
     "execution_count": 187,
     "metadata": {},
     "output_type": "execute_result"
    }
   ],
   "source": [
    "a=(np.min(data[:,3]), np.max(data[:,3]))\n",
    "a"
   ]
  },
  {
   "cell_type": "code",
   "execution_count": 190,
   "metadata": {},
   "outputs": [
    {
     "data": {
      "text/plain": [
       "array([ 1.,  2.,  3.,  4.,  5.,  6.,  7.,  8.,  9., 10., 11., 12.])"
      ]
     },
     "execution_count": 190,
     "metadata": {},
     "output_type": "execute_result"
    }
   ],
   "source": [
    "months = np.unique(data[:,1])\n",
    "months"
   ]
  },
  {
   "cell_type": "code",
   "execution_count": 197,
   "metadata": {},
   "outputs": [
    {
     "data": {
      "text/plain": [
       "-0.8321515520389532"
      ]
     },
     "execution_count": 197,
     "metadata": {},
     "output_type": "execute_result"
    }
   ],
   "source": [
    "# Only consider February\n",
    "\n",
    "# create a boolean array where 2nd col equal to 2\n",
    "feb_mask = data[:,1] == 2\n",
    "np.mean(data[feb_mask,3])"
   ]
  },
  {
   "cell_type": "code",
   "execution_count": 210,
   "metadata": {},
   "outputs": [
    {
     "data": {
      "text/plain": [
       "Text(0, 0.5, 'Mean Temp')"
      ]
     },
     "execution_count": 210,
     "metadata": {},
     "output_type": "execute_result"
    },
    {
     "data": {
      "image/png": "[encoded data removed]",
      "text/plain": [
       "<Figure size 432x288 with 1 Axes>"
      ]
     },
     "metadata": {
      "needs_background": "light"
     },
     "output_type": "display_data"
    }
   ],
   "source": [
    "# Split by months\n",
    "months = np.arange(1,13)\n",
    "\n",
    "# data[:,1]==m --> bool array \n",
    "monthly_mean = [np.mean(data[data[:,1]==m, 3]) for m in months]\n",
    "\n",
    "fig,ax=plt.subplots()\n",
    "ax.bar(months, monthly_mean)\n",
    "ax.set_xlabel('Month')\n",
    "ax.set_ylabel('Mean Temp')\n",
    "\n"
   ]
  },
  {
   "cell_type": "code",
   "execution_count": 179,
   "metadata": {},
   "outputs": [
    {
     "data": {
      "image/png": "[encoded data removed]",
      "text/plain": [
       "<Figure size 1008x288 with 1 Axes>"
      ]
     },
     "metadata": {
      "needs_background": "light"
     },
     "output_type": "display_data"
    }
   ],
   "source": [
    "fig, ax = plt.subplots(figsize=(14,4))\n",
    "# x is year + month/12 + day/365; y is value in 4th column\n",
    "ax.plot(data[:,0]+data[:,1]/12.0+data[:,2]/365, data[:,3])\n",
    "ax.axis('tight')\n",
    "ax.set_title('tempeatures in Stockholm')\n",
    "ax.set_xlabel('year')\n",
    "ax.set_ylabel('temperature (C)');"
   ]
  },
  {
   "cell_type": "code",
   "execution_count": 26,
   "metadata": {},
   "outputs": [],
   "source": [
    "M = np.random.rand(100, 100)\n",
    "np.savetxt('random-matrix.csv', M)"
   ]
  },
  {
   "cell_type": "code",
   "execution_count": null,
   "metadata": {},
   "outputs": [],
   "source": [
    "!more random-matrix.csv"
   ]
  },
  {
   "cell_type": "code",
   "execution_count": 17,
   "metadata": {},
   "outputs": [
    {
     "data": {
      "text/plain": [
       "[<matplotlib.lines.Line2D at 0x237f3c9a5f8>]"
      ]
     },
     "execution_count": 17,
     "metadata": {},
     "output_type": "execute_result"
    },
    {
     "data": {
      "image/png": "[encoded data removed]",
      "text/plain": [
       "<Figure size 1008x288 with 1 Axes>"
      ]
     },
     "metadata": {
      "needs_background": "light"
     },
     "output_type": "display_data"
    }
   ],
   "source": [
    "z = np.logspace(0, 2, base=10)\n",
    "\n",
    "fig, ax = plt.subplots(figsize=(14,4))\n",
    "ax.plot(range(50), z)\n"
   ]
  },
  {
   "cell_type": "code",
   "execution_count": 63,
   "metadata": {},
   "outputs": [
    {
     "data": {
      "text/plain": [
       "[<matplotlib.lines.Line2D at 0x237f8eeafd0>]"
      ]
     },
     "execution_count": 63,
     "metadata": {},
     "output_type": "execute_result"
    },
    {
     "data": {
      "image/png": "[encoded data removed]",
      "text/plain": [
       "<Figure size 1008x288 with 1 Axes>"
      ]
     },
     "metadata": {
      "needs_background": "light"
     },
     "output_type": "display_data"
    }
   ],
   "source": [
    "a = np.random.randn(500)\n",
    "a.sort()\n",
    "\n",
    "fig, ax = plt.subplots(figsize=(14,4))\n",
    "ax.plot(range(500), a)\n"
   ]
  },
  {
   "cell_type": "markdown",
   "metadata": {},
   "source": [
    "# Manipulating Arrays"
   ]
  },
  {
   "cell_type": "code",
   "execution_count": 75,
   "metadata": {},
   "outputs": [
    {
     "data": {
      "text/plain": [
       "array([[ 0.00000000e+00,  0.00000000e+00,  0.00000000e+00,\n",
       "         0.00000000e+00,  0.00000000e+00,  0.00000000e+00,\n",
       "         0.00000000e+00,  0.00000000e+00,  0.00000000e+00,\n",
       "         0.00000000e+00],\n",
       "       [-9.19350577e-01,  3.84240304e-01, -2.04831330e-01,\n",
       "        -1.67328415e+00, -4.53546468e-01,  6.37749783e-01,\n",
       "         4.90731326e-01,  9.87467308e-01,  8.54396486e-01,\n",
       "        -4.98168533e-01],\n",
       "       [-1.08678145e+00, -3.63375804e-01, -1.03176888e+00,\n",
       "        -1.69755481e-03,  1.22376670e+00, -1.64952905e+00,\n",
       "         9.50507382e-01, -1.58719369e+00,  1.54544627e+00,\n",
       "        -4.57594549e-01],\n",
       "       [ 1.13912921e-01,  6.76106196e-01, -1.74104011e+00,\n",
       "         8.67808675e-01,  1.96029151e-01, -1.47094244e-01,\n",
       "         5.66958255e-01,  6.41795358e-01, -8.16218878e-02,\n",
       "        -2.98714862e-01],\n",
       "       [ 1.25610195e+00, -1.07065095e-01,  5.56296894e-01,\n",
       "        -1.95073730e+00,  2.98373397e-01,  5.71674504e-01,\n",
       "        -1.08302340e+00, -1.58600908e-01,  7.91653752e-01,\n",
       "        -1.16527787e+00]])"
      ]
     },
     "execution_count": 75,
     "metadata": {},
     "output_type": "execute_result"
    }
   ],
   "source": [
    "M = np.random.randn(5,10)\n",
    "\n",
    "# row, column\n",
    "M[4, 9]\n",
    "\n",
    "M[2,:] # Third row\n",
    "M[:,0] # First column\n",
    "\n",
    "# Assigning all zeros to first row\n",
    "M[0,:] = 0\n",
    "M\n"
   ]
  },
  {
   "cell_type": "markdown",
   "metadata": {},
   "source": [
    "## Index Slicing (no commas!)"
   ]
  },
  {
   "cell_type": "code",
   "execution_count": 108,
   "metadata": {},
   "outputs": [
    {
     "data": {
      "text/plain": [
       "array([40, 42, 44, 46, 48])"
      ]
     },
     "execution_count": 108,
     "metadata": {},
     "output_type": "execute_result"
    }
   ],
   "source": [
    "a = np.array(range(100))\n",
    "\n",
    "# from 40th pos to 50 position (excluding) every second value\n",
    "a[40:50:2]"
   ]
  },
  {
   "cell_type": "code",
   "execution_count": 138,
   "metadata": {},
   "outputs": [
    {
     "data": {
      "text/plain": [
       "array([[21],\n",
       "       [31],\n",
       "       [41]])"
      ]
     },
     "execution_count": 138,
     "metadata": {},
     "output_type": "execute_result"
    }
   ],
   "source": [
    "M = np.array([[row+col*10 for row in range(5)] for col in range(7)])\n",
    "\n",
    "# from the 2nd row to the 5th(exc) take the 1st to the 2nd(exc)\n",
    "M[2:5, 1:2]"
   ]
  },
  {
   "cell_type": "code",
   "execution_count": 140,
   "metadata": {},
   "outputs": [
    {
     "data": {
      "text/plain": [
       "array([[ 0,  1,  2,  3,  4],\n",
       "       [10, 11, 12, 13, 14],\n",
       "       [20,  0, 22, 23, 24],\n",
       "       [30,  0, 32, 33, 34],\n",
       "       [40,  0, 42, 43, 44],\n",
       "       [50, 51, 52, 53, 54],\n",
       "       [60, 61, 62, 63, 64]])"
      ]
     },
     "execution_count": 140,
     "metadata": {},
     "output_type": "execute_result"
    }
   ],
   "source": [
    "M[2:5, 1:2] = 0\n",
    "M"
   ]
  },
  {
   "cell_type": "markdown",
   "metadata": {},
   "source": [
    "## Fancy Indexing"
   ]
  },
  {
   "cell_type": "markdown",
   "metadata": {},
   "source": [
    "Use an array as an index"
   ]
  },
  {
   "cell_type": "code",
   "execution_count": 171,
   "metadata": {},
   "outputs": [
    {
     "data": {
      "text/plain": [
       "array([ 45,  48, 149])"
      ]
     },
     "execution_count": 171,
     "metadata": {},
     "output_type": "execute_result"
    }
   ],
   "source": [
    "N = np.array([[col+row for row in range(100)] for col in range(100)])\n",
    "\n",
    "Rows = [44, 45, 50] # 45th row\n",
    "Cols = [1,3, -1] # 1st, third, and last column\n",
    "N[Rows, Cols] # returns (44,1), (45,3), (50,-1)\n"
   ]
  },
  {
   "cell_type": "markdown",
   "metadata": {},
   "source": [
    "## Higher Dimensional Data"
   ]
  },
  {
   "cell_type": "code",
   "execution_count": null,
   "metadata": {},
   "outputs": [],
   "source": [
    "O = np.random.rand(3,3)\n",
    "print(O)\n",
    "np.max(O) # global max\n",
    "np.max(O, axis=0) # max in each column\n",
    "np.max(O, axis=1) # max in each column\n"
   ]
  },
  {
   "cell_type": "markdown",
   "metadata": {},
   "source": [
    "# Resize, Reshape"
   ]
  },
  {
   "cell_type": "code",
   "execution_count": 230,
   "metadata": {},
   "outputs": [
    {
     "data": {
      "text/plain": [
       "array([0.07843433, 0.92721078, 0.5036616 , 0.66900199, 0.4968534 ,\n",
       "       0.84214659, 0.54067963, 0.8376755 , 0.52574026])"
      ]
     },
     "execution_count": 230,
     "metadata": {},
     "output_type": "execute_result"
    }
   ],
   "source": [
    "P = np.random.rand(3,3)\n",
    "n,m = P.shape\n",
    "\n",
    "# make one row of matrix\n",
    "Q = P.reshape(1, n*m)\n",
    "\n",
    "#same as before\n",
    "R = P.flatten()\n",
    "R"
   ]
  },
  {
   "cell_type": "markdown",
   "metadata": {},
   "source": [
    "## Adding new dim"
   ]
  },
  {
   "cell_type": "code",
   "execution_count": 233,
   "metadata": {},
   "outputs": [
    {
     "data": {
      "text/plain": [
       "array([[1],\n",
       "       [2],\n",
       "       [3]])"
      ]
     },
     "execution_count": 233,
     "metadata": {},
     "output_type": "execute_result"
    }
   ],
   "source": [
    "v=np.array([1,2,3])\n",
    "\n",
    "v[:,np.newaxis]"
   ]
  },
  {
   "cell_type": "markdown",
   "metadata": {},
   "source": [
    "## Stacking and Repeating arrays"
   ]
  },
  {
   "cell_type": "code",
   "execution_count": 245,
   "metadata": {},
   "outputs": [
    {
     "data": {
      "text/plain": [
       "array([[1, 0, 0, 0, 0, 1, 0, 0, 0, 0, 1, 0, 0, 0, 0],\n",
       "       [0, 1, 0, 0, 0, 0, 1, 0, 0, 0, 0, 1, 0, 0, 0],\n",
       "       [0, 0, 1, 0, 0, 0, 0, 1, 0, 0, 0, 0, 1, 0, 0],\n",
       "       [0, 0, 0, 1, 0, 0, 0, 0, 1, 0, 0, 0, 0, 1, 0],\n",
       "       [0, 0, 0, 0, 1, 0, 0, 0, 0, 1, 0, 0, 0, 0, 1]])"
      ]
     },
     "execution_count": 245,
     "metadata": {},
     "output_type": "execute_result"
    }
   ],
   "source": [
    "S = np.zeros([5,5], dtype=int)\n",
    "np.fill_diagonal(S,1)\n",
    "np.tile(S,3)\n",
    "\n"
   ]
  },
  {
   "cell_type": "markdown",
   "metadata": {},
   "source": [
    "# Copy"
   ]
  },
  {
   "cell_type": "code",
   "execution_count": null,
   "metadata": {
    "scrolled": false
   },
   "outputs": [],
   "source": [
    "T = np.random.rand(10,10)"
   ]
  },
  {
   "cell_type": "code",
   "execution_count": 255,
   "metadata": {},
   "outputs": [
    {
     "data": {
      "text/plain": [
       "array([[0.50000965, 0.98430094, 0.56865895, 0.46226714, 0.77643267,\n",
       "        0.43820644, 0.68189218, 0.36170848, 0.48254819, 0.286068  ],\n",
       "       [0.        , 0.        , 0.        , 0.        , 0.        ,\n",
       "        0.        , 0.        , 0.        , 0.        , 0.        ],\n",
       "       [0.17721971, 0.43151416, 0.04083936, 0.88406797, 0.06463789,\n",
       "        0.57953219, 0.22404695, 0.58042772, 0.25132709, 0.00901087],\n",
       "       [0.8800957 , 0.2104622 , 0.67381062, 0.21961843, 0.29425111,\n",
       "        0.8470014 , 0.86572138, 0.50294299, 0.70476873, 0.27975995],\n",
       "       [0.49211336, 0.5408978 , 0.17864237, 0.33686987, 0.69228335,\n",
       "        0.43626575, 0.94534939, 0.63610406, 0.42333262, 0.39738623],\n",
       "       [0.78492305, 0.90498492, 0.28795227, 0.27789728, 0.67623557,\n",
       "        0.48142468, 0.25782809, 0.65300521, 0.32458223, 0.64989632],\n",
       "       [0.22616749, 0.81665992, 0.77509423, 0.21233486, 0.31880247,\n",
       "        0.47216618, 0.18147824, 0.35802217, 0.04181683, 0.33543524],\n",
       "       [0.66053659, 0.98583209, 0.36145249, 0.95821539, 0.14156375,\n",
       "        0.1252102 , 0.54995556, 0.46098488, 0.90768079, 0.18920949],\n",
       "       [0.61580518, 0.41237615, 0.43539312, 0.15155357, 0.32372919,\n",
       "        0.96650175, 0.57205436, 0.19466534, 0.52257026, 0.65489143],\n",
       "       [0.46799735, 0.54579634, 0.14829697, 0.74564873, 0.3668844 ,\n",
       "        0.71448007, 0.15621935, 0.08318997, 0.76297566, 0.13348985]])"
      ]
     },
     "execution_count": 255,
     "metadata": {},
     "output_type": "execute_result"
    }
   ],
   "source": [
    "U = np.copy(T)\n",
    "U[1,:] = 0"
   ]
  },
  {
   "cell_type": "code",
   "execution_count": null,
   "metadata": {},
   "outputs": [],
   "source": []
  }
 ],
 "metadata": {
  "kernelspec": {
   "display_name": "Python 3",
   "language": "python",
   "name": "python3"
  },
  "language_info": {
   "codemirror_mode": {
    "name": "ipython",
    "version": 3
   },
   "file_extension": ".py",
   "mimetype": "text/x-python",
   "name": "python",
   "nbconvert_exporter": "python",
   "pygments_lexer": "ipython3",
   "version": "3.7.1"
  }
 },
 "nbformat": 4,
 "nbformat_minor": 2
}
